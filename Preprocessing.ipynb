{
 "cells": [
  {
   "cell_type": "code",
   "execution_count": 1,
   "metadata": {},
   "outputs": [],
   "source": [
    "import pandas as pd\n",
    "import nltk\n",
    "from nltk.corpus import stopwords"
   ]
  },
  {
   "cell_type": "code",
   "execution_count": 7,
   "metadata": {},
   "outputs": [],
   "source": [
    "data = pd.read_csv('dataset/wrangled_data.csv',\n",
    "                       encoding='utf-8')"
   ]
  },
  {
   "cell_type": "code",
   "execution_count": 8,
   "metadata": {},
   "outputs": [],
   "source": [
    "data['text'] = data['text'].str.lower()"
   ]
  },
  {
   "cell_type": "code",
   "execution_count": 9,
   "metadata": {},
   "outputs": [
    {
     "data": {
      "text/html": [
       "<div>\n",
       "<style scoped>\n",
       "    .dataframe tbody tr th:only-of-type {\n",
       "        vertical-align: middle;\n",
       "    }\n",
       "\n",
       "    .dataframe tbody tr th {\n",
       "        vertical-align: top;\n",
       "    }\n",
       "\n",
       "    .dataframe thead th {\n",
       "        text-align: right;\n",
       "    }\n",
       "</style>\n",
       "<table border=\"1\" class=\"dataframe\">\n",
       "  <thead>\n",
       "    <tr style=\"text-align: right;\">\n",
       "      <th></th>\n",
       "      <th>text</th>\n",
       "      <th>class</th>\n",
       "    </tr>\n",
       "  </thead>\n",
       "  <tbody>\n",
       "    <tr>\n",
       "      <th>0</th>\n",
       "      <td>sci-news.com is committed to protecting and re...</td>\n",
       "      <td>Other</td>\n",
       "    </tr>\n",
       "    <tr>\n",
       "      <th>1</th>\n",
       "      <td>sci-news.com is committed to protecting and re...</td>\n",
       "      <td>Other</td>\n",
       "    </tr>\n",
       "    <tr>\n",
       "      <th>2</th>\n",
       "      <td>please note that these terms are subject to ch...</td>\n",
       "      <td>Policy Change</td>\n",
       "    </tr>\n",
       "    <tr>\n",
       "      <th>3</th>\n",
       "      <td>sci-news.com may collect and process nformatio...</td>\n",
       "      <td>First Party Collection/Use</td>\n",
       "    </tr>\n",
       "    <tr>\n",
       "      <th>4</th>\n",
       "      <td>sci-news.com may collect and process nformatio...</td>\n",
       "      <td>First Party Collection/Use</td>\n",
       "    </tr>\n",
       "    <tr>\n",
       "      <th>...</th>\n",
       "      <td>...</td>\n",
       "      <td>...</td>\n",
       "    </tr>\n",
       "    <tr>\n",
       "      <th>19353</th>\n",
       "      <td>do not ersonal information children</td>\n",
       "      <td>First Party Collection/Use</td>\n",
       "    </tr>\n",
       "    <tr>\n",
       "      <th>19354</th>\n",
       "      <td>if you have a question regarding any of the ab...</td>\n",
       "      <td>Other</td>\n",
       "    </tr>\n",
       "    <tr>\n",
       "      <th>19355</th>\n",
       "      <td>information@mohegansun.com</td>\n",
       "      <td>Other</td>\n",
       "    </tr>\n",
       "    <tr>\n",
       "      <th>19356</th>\n",
       "      <td>1 mohegan sun boulevard uncasville, ct 06382 f...</td>\n",
       "      <td>Other</td>\n",
       "    </tr>\n",
       "    <tr>\n",
       "      <th>19357</th>\n",
       "      <td>1 mohegan sun boulevard uncasville, ct 06382 f...</td>\n",
       "      <td>Other</td>\n",
       "    </tr>\n",
       "  </tbody>\n",
       "</table>\n",
       "<p>19358 rows × 2 columns</p>\n",
       "</div>"
      ],
      "text/plain": [
       "                                                    text  \\\n",
       "0      sci-news.com is committed to protecting and re...   \n",
       "1      sci-news.com is committed to protecting and re...   \n",
       "2      please note that these terms are subject to ch...   \n",
       "3      sci-news.com may collect and process nformatio...   \n",
       "4      sci-news.com may collect and process nformatio...   \n",
       "...                                                  ...   \n",
       "19353                do not ersonal information children   \n",
       "19354  if you have a question regarding any of the ab...   \n",
       "19355                         information@mohegansun.com   \n",
       "19356  1 mohegan sun boulevard uncasville, ct 06382 f...   \n",
       "19357  1 mohegan sun boulevard uncasville, ct 06382 f...   \n",
       "\n",
       "                            class  \n",
       "0                           Other  \n",
       "1                           Other  \n",
       "2                   Policy Change  \n",
       "3      First Party Collection/Use  \n",
       "4      First Party Collection/Use  \n",
       "...                           ...  \n",
       "19353  First Party Collection/Use  \n",
       "19354                       Other  \n",
       "19355                       Other  \n",
       "19356                       Other  \n",
       "19357                       Other  \n",
       "\n",
       "[19358 rows x 2 columns]"
      ]
     },
     "execution_count": 9,
     "metadata": {},
     "output_type": "execute_result"
    }
   ],
   "source": [
    "data"
   ]
  },
  {
   "cell_type": "code",
   "execution_count": 10,
   "metadata": {},
   "outputs": [
    {
     "data": {
      "text/plain": [
       "{'Other': 0,\n",
       " 'Policy Change': 1,\n",
       " 'First Party Collection/Use': 2,\n",
       " 'Data Retention': 3,\n",
       " 'International and Specific Audiences': 4,\n",
       " 'Third Party Sharing/Collection': 5,\n",
       " 'User Choice/Control': 6,\n",
       " 'User Access, Edit and Deletion': 7,\n",
       " 'Data Security': 8,\n",
       " 'Do Not Track': 9}"
      ]
     },
     "execution_count": 10,
     "metadata": {},
     "output_type": "execute_result"
    }
   ],
   "source": [
    "dict = {}\n",
    "\n",
    "def find_all_classes(text):\n",
    "    try:\n",
    "        dict[text]\n",
    "    except:\n",
    "        dict[text] = len(dict)\n",
    "           \n",
    "#data['class'].apply(find_all_classes)\n",
    "\n",
    "dict"
   ]
  },
  {
   "cell_type": "code",
   "execution_count": 11,
   "metadata": {},
   "outputs": [
    {
     "data": {
      "text/html": [
       "<div>\n",
       "<style scoped>\n",
       "    .dataframe tbody tr th:only-of-type {\n",
       "        vertical-align: middle;\n",
       "    }\n",
       "\n",
       "    .dataframe tbody tr th {\n",
       "        vertical-align: top;\n",
       "    }\n",
       "\n",
       "    .dataframe thead th {\n",
       "        text-align: right;\n",
       "    }\n",
       "</style>\n",
       "<table border=\"1\" class=\"dataframe\">\n",
       "  <thead>\n",
       "    <tr style=\"text-align: right;\">\n",
       "      <th></th>\n",
       "      <th>text</th>\n",
       "      <th>class</th>\n",
       "    </tr>\n",
       "  </thead>\n",
       "  <tbody>\n",
       "    <tr>\n",
       "      <th>0</th>\n",
       "      <td>sci-news.com is committed to protecting and re...</td>\n",
       "      <td>0</td>\n",
       "    </tr>\n",
       "    <tr>\n",
       "      <th>1</th>\n",
       "      <td>sci-news.com is committed to protecting and re...</td>\n",
       "      <td>0</td>\n",
       "    </tr>\n",
       "    <tr>\n",
       "      <th>2</th>\n",
       "      <td>please note that these terms are subject to ch...</td>\n",
       "      <td>1</td>\n",
       "    </tr>\n",
       "    <tr>\n",
       "      <th>3</th>\n",
       "      <td>sci-news.com may collect and process nformatio...</td>\n",
       "      <td>2</td>\n",
       "    </tr>\n",
       "    <tr>\n",
       "      <th>4</th>\n",
       "      <td>sci-news.com may collect and process nformatio...</td>\n",
       "      <td>2</td>\n",
       "    </tr>\n",
       "    <tr>\n",
       "      <th>...</th>\n",
       "      <td>...</td>\n",
       "      <td>...</td>\n",
       "    </tr>\n",
       "    <tr>\n",
       "      <th>19353</th>\n",
       "      <td>do not ersonal information children</td>\n",
       "      <td>2</td>\n",
       "    </tr>\n",
       "    <tr>\n",
       "      <th>19354</th>\n",
       "      <td>if you have a question regarding any of the ab...</td>\n",
       "      <td>0</td>\n",
       "    </tr>\n",
       "    <tr>\n",
       "      <th>19355</th>\n",
       "      <td>information@mohegansun.com</td>\n",
       "      <td>0</td>\n",
       "    </tr>\n",
       "    <tr>\n",
       "      <th>19356</th>\n",
       "      <td>1 mohegan sun boulevard uncasville, ct 06382 f...</td>\n",
       "      <td>0</td>\n",
       "    </tr>\n",
       "    <tr>\n",
       "      <th>19357</th>\n",
       "      <td>1 mohegan sun boulevard uncasville, ct 06382 f...</td>\n",
       "      <td>0</td>\n",
       "    </tr>\n",
       "  </tbody>\n",
       "</table>\n",
       "<p>19358 rows × 2 columns</p>\n",
       "</div>"
      ],
      "text/plain": [
       "                                                    text  class\n",
       "0      sci-news.com is committed to protecting and re...      0\n",
       "1      sci-news.com is committed to protecting and re...      0\n",
       "2      please note that these terms are subject to ch...      1\n",
       "3      sci-news.com may collect and process nformatio...      2\n",
       "4      sci-news.com may collect and process nformatio...      2\n",
       "...                                                  ...    ...\n",
       "19353                do not ersonal information children      2\n",
       "19354  if you have a question regarding any of the ab...      0\n",
       "19355                         information@mohegansun.com      0\n",
       "19356  1 mohegan sun boulevard uncasville, ct 06382 f...      0\n",
       "19357  1 mohegan sun boulevard uncasville, ct 06382 f...      0\n",
       "\n",
       "[19358 rows x 2 columns]"
      ]
     },
     "execution_count": 11,
     "metadata": {},
     "output_type": "execute_result"
    }
   ],
   "source": [
    "def replace_classes_with_numbers(text):\n",
    "    return dict[text]\n",
    "\n",
    "data['class'] =data['class'].apply(replace_classes_with_numbers)\n",
    "\n",
    "data"
   ]
  },
  {
   "cell_type": "code",
   "execution_count": 12,
   "metadata": {},
   "outputs": [
    {
     "name": "stdout",
     "output_type": "stream",
     "text": [
      "0        sci-news.com committed protecting respecting p...\n",
      "1        sci-news.com committed protecting respecting p...\n",
      "2        please note terms subject change, changes incl...\n",
      "3        sci-news.com collect process nformation provid...\n",
      "4        sci-news.com collect process nformation provid...\n",
      "                               ...                        \n",
      "19353                         ersonal information children\n",
      "19354    question regarding information, please contact...\n",
      "19355                           information@mohegansun.com\n",
      "19356    1 mohegan sun boulevard uncasville, ct 06382 g...\n",
      "19357    1 mohegan sun boulevard uncasville, ct 06382 g...\n",
      "Name: text, Length: 19358, dtype: object\n"
     ]
    }
   ],
   "source": [
    "stop_words = stopwords.words('english')\n",
    "stop_words.append('may') #???\n",
    "data['text'] = data['text'].apply(lambda x: ' '.join([word for word in x.split() if word not in (stop_words)]))\n",
    "print(data['text'])"
   ]
  },
  {
   "cell_type": "code",
   "execution_count": 13,
   "metadata": {},
   "outputs": [],
   "source": [
    "w_tokenizer = nltk.tokenize.WhitespaceTokenizer()\n",
    "lemmatizer = nltk.stem.WordNetLemmatizer()\n",
    "\n",
    "def lemmatize_text(text):\n",
    "    return ' '.join([lemmatizer.lemmatize(w) for w in w_tokenizer.tokenize(text)])\n",
    "\n",
    "data['text'] = data['text'].apply(lemmatize_text)"
   ]
  },
  {
   "cell_type": "code",
   "execution_count": 15,
   "metadata": {},
   "outputs": [],
   "source": [
    "data.to_csv('dataset/train_preprocessed.csv')"
   ]
  },
  {
   "cell_type": "code",
   "execution_count": 14,
   "metadata": {},
   "outputs": [
    {
     "name": "stdout",
     "output_type": "stream",
     "text": [
      "2    7866\n",
      "5    4712\n",
      "0    2398\n",
      "6    1582\n",
      "8     734\n",
      "7     669\n",
      "4     560\n",
      "1     438\n",
      "3     334\n",
      "9      65\n",
      "Name: class, dtype: int64\n"
     ]
    },
    {
     "data": {
      "text/plain": [
       "<matplotlib.axes._subplots.AxesSubplot at 0x17abb74ca58>"
      ]
     },
     "execution_count": 14,
     "metadata": {},
     "output_type": "execute_result"
    }
   ],
   "source": [
    "print(data['class'].value_counts())\n",
    "data['class'].value_counts().plot(kind='bar')"
   ]
  },
  {
   "cell_type": "code",
   "execution_count": null,
   "metadata": {},
   "outputs": [],
   "source": []
  }
 ],
 "metadata": {
  "kernelspec": {
   "display_name": "Python 3",
   "language": "python",
   "name": "python3"
  },
  "language_info": {
   "codemirror_mode": {
    "name": "ipython",
    "version": 3
   },
   "file_extension": ".py",
   "mimetype": "text/x-python",
   "name": "python",
   "nbconvert_exporter": "python",
   "pygments_lexer": "ipython3",
   "version": "3.6.8"
  }
 },
 "nbformat": 4,
 "nbformat_minor": 2
}
