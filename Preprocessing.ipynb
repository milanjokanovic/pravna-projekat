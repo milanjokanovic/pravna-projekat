{
 "cells": [
  {
   "cell_type": "code",
   "execution_count": 36,
   "metadata": {},
   "outputs": [],
   "source": [
    "import pandas as pd\n",
    "import nltk\n",
    "from nltk.corpus import stopwords\n",
    "from sklearn.model_selection import train_test_split\n",
    "import matplotlib.pyplot as plt"
   ]
  },
  {
   "cell_type": "markdown",
   "metadata": {},
   "source": [
    ">Ucitavanje wranglovanih podataka sa putanje dataset/wrangled_data"
   ]
  },
  {
   "cell_type": "code",
   "execution_count": 2,
   "metadata": {},
   "outputs": [],
   "source": [
    "data = pd.read_csv('dataset/wrangled_data.csv',\n",
    "                       encoding='utf-8')"
   ]
  },
  {
   "cell_type": "markdown",
   "metadata": {},
   "source": [
    ">Prebacivanje celog korpusa u lower case"
   ]
  },
  {
   "cell_type": "code",
   "execution_count": 3,
   "metadata": {},
   "outputs": [],
   "source": [
    "data['text'] = data['text'].str.lower()"
   ]
  },
  {
   "cell_type": "code",
   "execution_count": 6,
   "metadata": {},
   "outputs": [
    {
     "data": {
      "text/plain": [
       "{'Other': 0,\n",
       " 'Policy Change': 1,\n",
       " 'First Party Collection/Use': 2,\n",
       " 'Data Retention': 3,\n",
       " 'International and Specific Audiences': 4,\n",
       " 'Third Party Sharing/Collection': 5,\n",
       " 'User Choice/Control': 6,\n",
       " 'User Access, Edit and Deletion': 7,\n",
       " 'Data Security': 8,\n",
       " 'Do Not Track': 9}"
      ]
     },
     "execution_count": 6,
     "metadata": {},
     "output_type": "execute_result"
    }
   ],
   "source": [
    "dict = {}\n",
    "\n",
    "def find_all_classes(text):\n",
    "    try:\n",
    "        dict[text]\n",
    "    except:\n",
    "        dict[text] = len(dict)\n",
    "           \n",
    "data['class'].apply(find_all_classes)\n",
    "\n",
    "dict"
   ]
  },
  {
   "cell_type": "code",
   "execution_count": 7,
   "metadata": {},
   "outputs": [
    {
     "data": {
      "text/html": [
       "<div>\n",
       "<style scoped>\n",
       "    .dataframe tbody tr th:only-of-type {\n",
       "        vertical-align: middle;\n",
       "    }\n",
       "\n",
       "    .dataframe tbody tr th {\n",
       "        vertical-align: top;\n",
       "    }\n",
       "\n",
       "    .dataframe thead th {\n",
       "        text-align: right;\n",
       "    }\n",
       "</style>\n",
       "<table border=\"1\" class=\"dataframe\">\n",
       "  <thead>\n",
       "    <tr style=\"text-align: right;\">\n",
       "      <th></th>\n",
       "      <th>text</th>\n",
       "      <th>class</th>\n",
       "    </tr>\n",
       "  </thead>\n",
       "  <tbody>\n",
       "    <tr>\n",
       "      <th>0</th>\n",
       "      <td>sci-news.com is committed to protecting and re...</td>\n",
       "      <td>0</td>\n",
       "    </tr>\n",
       "    <tr>\n",
       "      <th>1</th>\n",
       "      <td>sci-news.com is committed to protecting and re...</td>\n",
       "      <td>0</td>\n",
       "    </tr>\n",
       "    <tr>\n",
       "      <th>2</th>\n",
       "      <td>please note that these terms are subject to ch...</td>\n",
       "      <td>1</td>\n",
       "    </tr>\n",
       "    <tr>\n",
       "      <th>3</th>\n",
       "      <td>sci-news.com may collect and process nformatio...</td>\n",
       "      <td>2</td>\n",
       "    </tr>\n",
       "    <tr>\n",
       "      <th>4</th>\n",
       "      <td>sci-news.com may collect and process nformatio...</td>\n",
       "      <td>2</td>\n",
       "    </tr>\n",
       "    <tr>\n",
       "      <th>...</th>\n",
       "      <td>...</td>\n",
       "      <td>...</td>\n",
       "    </tr>\n",
       "    <tr>\n",
       "      <th>19353</th>\n",
       "      <td>do not ersonal information children</td>\n",
       "      <td>2</td>\n",
       "    </tr>\n",
       "    <tr>\n",
       "      <th>19354</th>\n",
       "      <td>if you have a question regarding any of the ab...</td>\n",
       "      <td>0</td>\n",
       "    </tr>\n",
       "    <tr>\n",
       "      <th>19355</th>\n",
       "      <td>information@mohegansun.com</td>\n",
       "      <td>0</td>\n",
       "    </tr>\n",
       "    <tr>\n",
       "      <th>19356</th>\n",
       "      <td>1 mohegan sun boulevard uncasville, ct 06382 f...</td>\n",
       "      <td>0</td>\n",
       "    </tr>\n",
       "    <tr>\n",
       "      <th>19357</th>\n",
       "      <td>1 mohegan sun boulevard uncasville, ct 06382 f...</td>\n",
       "      <td>0</td>\n",
       "    </tr>\n",
       "  </tbody>\n",
       "</table>\n",
       "<p>19358 rows × 2 columns</p>\n",
       "</div>"
      ],
      "text/plain": [
       "                                                    text  class\n",
       "0      sci-news.com is committed to protecting and re...      0\n",
       "1      sci-news.com is committed to protecting and re...      0\n",
       "2      please note that these terms are subject to ch...      1\n",
       "3      sci-news.com may collect and process nformatio...      2\n",
       "4      sci-news.com may collect and process nformatio...      2\n",
       "...                                                  ...    ...\n",
       "19353                do not ersonal information children      2\n",
       "19354  if you have a question regarding any of the ab...      0\n",
       "19355                         information@mohegansun.com      0\n",
       "19356  1 mohegan sun boulevard uncasville, ct 06382 f...      0\n",
       "19357  1 mohegan sun boulevard uncasville, ct 06382 f...      0\n",
       "\n",
       "[19358 rows x 2 columns]"
      ]
     },
     "execution_count": 7,
     "metadata": {},
     "output_type": "execute_result"
    }
   ],
   "source": [
    "def replace_classes_with_numbers(text):\n",
    "    return dict[text]\n",
    "\n",
    "data['class'] = data['class'].apply(replace_classes_with_numbers)"
   ]
  },
  {
   "cell_type": "markdown",
   "metadata": {},
   "source": [
    ">Izbacivanje stop reci engleskog jezika definisane u nltk.corpus.stopwords <br><br>\n",
    ">Analizom podataka uoceno je da se rec 'may' ponavlja izuzetno veliki broj puta, odnosno da nece \n",
    "doprinositi kvalitetu klasifikacije. Stoge je ona takodje izbacena"
   ]
  },
  {
   "cell_type": "code",
   "execution_count": 8,
   "metadata": {},
   "outputs": [
    {
     "name": "stdout",
     "output_type": "stream",
     "text": [
      "0        sci-news.com committed protecting respecting p...\n",
      "1        sci-news.com committed protecting respecting p...\n",
      "2        please note terms subject change, changes incl...\n",
      "3        sci-news.com collect process nformation provid...\n",
      "4        sci-news.com collect process nformation provid...\n",
      "                               ...                        \n",
      "19353                         ersonal information children\n",
      "19354    question regarding information, please contact...\n",
      "19355                           information@mohegansun.com\n",
      "19356    1 mohegan sun boulevard uncasville, ct 06382 g...\n",
      "19357    1 mohegan sun boulevard uncasville, ct 06382 g...\n",
      "Name: text, Length: 19358, dtype: object\n"
     ]
    }
   ],
   "source": [
    "stop_words = stopwords.words('english')\n",
    "stop_words.append('may') #???\n",
    "data['text'] = data['text'].apply(lambda x: ' '.join([word for word in x.split() if word not in (stop_words)]))"
   ]
  },
  {
   "cell_type": "markdown",
   "metadata": {},
   "source": [
    ">Lematizacija korpusa uradjena pomocu nltk.stem.WordNetLemmatizer klase."
   ]
  },
  {
   "cell_type": "code",
   "execution_count": 9,
   "metadata": {},
   "outputs": [],
   "source": [
    "w_tokenizer = nltk.tokenize.WhitespaceTokenizer()\n",
    "lemmatizer = nltk.stem.WordNetLemmatizer()\n",
    "\n",
    "def lemmatize_text(text):\n",
    "    return ' '.join([lemmatizer.lemmatize(w) for w in w_tokenizer.tokenize(text)])\n",
    "\n",
    "data['text'] = data['text'].apply(lemmatize_text)"
   ]
  },
  {
   "cell_type": "markdown",
   "metadata": {},
   "source": [
    ">Izbaceni znaci interpunkcije iz korpusa"
   ]
  },
  {
   "cell_type": "code",
   "execution_count": 18,
   "metadata": {},
   "outputs": [],
   "source": [
    "tokenizer = nltk.RegexpTokenizer(r\"\\w+\")\n",
    "\n",
    "def remove_interpunction(text):\n",
    "    return ' '.join(tokenizer.tokenize(text))\n",
    "\n",
    "data['text'] = data['text'].apply(remove_interpunction)"
   ]
  },
  {
   "cell_type": "markdown",
   "metadata": {},
   "source": [
    ">Napravljen train/test split, gde test sadrzi 30% korpusa.<br>\n",
    ">Podela je uradjena tako da odnos klasa ostane procentualno isti"
   ]
  },
  {
   "cell_type": "code",
   "execution_count": 28,
   "metadata": {},
   "outputs": [],
   "source": [
    "X_train, X_test, y_train, y_test = train_test_split(data['text'], data['class'], \n",
    "                                                    test_size=0.3, random_state=42)\n",
    "\n",
    "train_data = pd.DataFrame({'text': X_train, 'class': y_train})\n",
    "test_data = pd.DataFrame({'text': X_test, 'class': y_test})"
   ]
  },
  {
   "cell_type": "markdown",
   "metadata": {},
   "source": [
    ">Train i test podaci upisani u posebne fajlove"
   ]
  },
  {
   "cell_type": "code",
   "execution_count": 51,
   "metadata": {},
   "outputs": [],
   "source": [
    "train_data.to_csv(path_or_buf = 'dataset/train_preprocessed.csv', columns = ['text', 'class'],\n",
    "                 index = False)\n",
    "test_data.to_csv(path_or_buf = 'dataset/test_preprocessed.csv', columns = ['text', 'class'], \n",
    "                index = False)"
   ]
  },
  {
   "cell_type": "code",
   "execution_count": 30,
   "metadata": {},
   "outputs": [
    {
     "name": "stdout",
     "output_type": "stream",
     "text": [
      "2    5537\n",
      "5    3331\n",
      "0    1654\n",
      "6    1105\n",
      "8     498\n",
      "7     464\n",
      "4     388\n",
      "1     299\n",
      "3     229\n",
      "9      45\n",
      "Name: class, dtype: int64\n",
      "*********************************\n",
      "2    2329\n",
      "5    1381\n",
      "0     744\n",
      "6     477\n",
      "8     236\n",
      "7     205\n",
      "4     172\n",
      "1     139\n",
      "3     105\n",
      "9      20\n",
      "Name: class, dtype: int64\n"
     ]
    }
   ],
   "source": [
    "print(train_data['class'].value_counts())\n",
    "print(\"*********************************\")\n",
    "print(test_data['class'].value_counts())"
   ]
  },
  {
   "cell_type": "code",
   "execution_count": 49,
   "metadata": {},
   "outputs": [
    {
     "data": {
      "text/plain": [
       "<BarContainer object of 10 artists>"
      ]
     },
     "execution_count": 49,
     "metadata": {},
     "output_type": "execute_result"
    },
    {
     "data": {
      "image/png": "[encoded data removed]",
      "text/plain": [
       "<Figure size 432x288 with 1 Axes>"
      ]
     },
     "metadata": {
      "needs_background": "light"
     },
     "output_type": "display_data"
    }
   ],
   "source": [
    "fig, ax = plt.subplots()\n",
    "\n",
    "ax.spines['bottom'].set_color('red')\n",
    "ax.xaxis.label.set_color('red')\n",
    "ax.tick_params(axis='x', colors='red')\n",
    "\n",
    "ax.bar(pd.unique(train_data['class']), train_data['class'].value_counts(), width = 0.35, \n",
    "       label='Train')\n",
    "ax.bar(pd.unique(train_data['class']), test_data['class'].value_counts(), width = 0.35, \n",
    "        label='Test')"
   ]
  },
  {
   "cell_type": "code",
   "execution_count": null,
   "metadata": {},
   "outputs": [],
   "source": []
  }
 ],
 "metadata": {
  "kernelspec": {
   "display_name": "Python 3 (ipykernel)",
   "language": "python",
   "name": "python3"
  },
  "language_info": {
   "codemirror_mode": {
    "name": "ipython",
    "version": 3
   },
   "file_extension": ".py",
   "mimetype": "text/x-python",
   "name": "python",
   "nbconvert_exporter": "python",
   "pygments_lexer": "ipython3",
   "version": "3.10.4"
  }
 },
 "nbformat": 4,
 "nbformat_minor": 2
}
