{
 "cells": [
  {
   "cell_type": "code",
   "execution_count": 40,
   "metadata": {},
   "outputs": [],
   "source": [
    "import pandas as pd\n",
    "import nltk\n",
    "from nltk.corpus import stopwords"
   ]
  },
  {
   "cell_type": "code",
   "execution_count": 62,
   "metadata": {},
   "outputs": [],
   "source": [
    "data = pd.read_csv('preprocessed.csv',\n",
    "                       encoding='utf-8', names=['text', 'class'], skiprows =1)"
   ]
  },
  {
   "cell_type": "code",
   "execution_count": 63,
   "metadata": {},
   "outputs": [],
   "source": [
    "data['text'] = data['text'].str.lower()"
   ]
  },
  {
   "cell_type": "code",
   "execution_count": 64,
   "metadata": {},
   "outputs": [
    {
     "data": {
      "text/html": [
       "<div>\n",
       "<style scoped>\n",
       "    .dataframe tbody tr th:only-of-type {\n",
       "        vertical-align: middle;\n",
       "    }\n",
       "\n",
       "    .dataframe tbody tr th {\n",
       "        vertical-align: top;\n",
       "    }\n",
       "\n",
       "    .dataframe thead th {\n",
       "        text-align: right;\n",
       "    }\n",
       "</style>\n",
       "<table border=\"1\" class=\"dataframe\">\n",
       "  <thead>\n",
       "    <tr style=\"text-align: right;\">\n",
       "      <th></th>\n",
       "      <th>text</th>\n",
       "      <th>class</th>\n",
       "    </tr>\n",
       "  </thead>\n",
       "  <tbody>\n",
       "    <tr>\n",
       "      <th>0</th>\n",
       "      <td>information sci-news.com collect online sci-ne...</td>\n",
       "      <td>First Party Collection/Use</td>\n",
       "    </tr>\n",
       "    <tr>\n",
       "      <th>1</th>\n",
       "      <td>#name?</td>\n",
       "      <td>First Party Collection/Use</td>\n",
       "    </tr>\n",
       "    <tr>\n",
       "      <th>2</th>\n",
       "      <td>use cooky sci-news.com us cookie technology. c...</td>\n",
       "      <td>First Party Collection/Use</td>\n",
       "    </tr>\n",
       "    <tr>\n",
       "      <th>3</th>\n",
       "      <td>course visit sci-news.com website, page see, a...</td>\n",
       "      <td>First Party Collection/Use</td>\n",
       "    </tr>\n",
       "    <tr>\n",
       "      <th>4</th>\n",
       "      <td>please note visit sci-news.com website notice ...</td>\n",
       "      <td>Third Party Sharing/Collection</td>\n",
       "    </tr>\n",
       "    <tr>\n",
       "      <th>...</th>\n",
       "      <td>...</td>\n",
       "      <td>...</td>\n",
       "    </tr>\n",
       "    <tr>\n",
       "      <th>2634</th>\n",
       "      <td>information collected online information colle...</td>\n",
       "      <td>First Party Collection/Use</td>\n",
       "    </tr>\n",
       "    <tr>\n",
       "      <th>2635</th>\n",
       "      <td>information collected online information colle...</td>\n",
       "      <td>Third Party Sharing/Collection</td>\n",
       "    </tr>\n",
       "    <tr>\n",
       "      <th>2636</th>\n",
       "      <td>information collected mohegan sun addition inf...</td>\n",
       "      <td>First Party Collection/Use</td>\n",
       "    </tr>\n",
       "    <tr>\n",
       "      <th>2637</th>\n",
       "      <td>information collected mohegan sun addition inf...</td>\n",
       "      <td>Third Party Sharing/Collection</td>\n",
       "    </tr>\n",
       "    <tr>\n",
       "      <th>2638</th>\n",
       "      <td>special note child site intended children. chi...</td>\n",
       "      <td>International and Specific Audiences</td>\n",
       "    </tr>\n",
       "  </tbody>\n",
       "</table>\n",
       "<p>2639 rows × 2 columns</p>\n",
       "</div>"
      ],
      "text/plain": [
       "                                                   text  \\\n",
       "0     information sci-news.com collect online sci-ne...   \n",
       "1                                                #name?   \n",
       "2     use cooky sci-news.com us cookie technology. c...   \n",
       "3     course visit sci-news.com website, page see, a...   \n",
       "4     please note visit sci-news.com website notice ...   \n",
       "...                                                 ...   \n",
       "2634  information collected online information colle...   \n",
       "2635  information collected online information colle...   \n",
       "2636  information collected mohegan sun addition inf...   \n",
       "2637  information collected mohegan sun addition inf...   \n",
       "2638  special note child site intended children. chi...   \n",
       "\n",
       "                                     class  \n",
       "0               First Party Collection/Use  \n",
       "1               First Party Collection/Use  \n",
       "2               First Party Collection/Use  \n",
       "3               First Party Collection/Use  \n",
       "4           Third Party Sharing/Collection  \n",
       "...                                    ...  \n",
       "2634            First Party Collection/Use  \n",
       "2635        Third Party Sharing/Collection  \n",
       "2636            First Party Collection/Use  \n",
       "2637        Third Party Sharing/Collection  \n",
       "2638  International and Specific Audiences  \n",
       "\n",
       "[2639 rows x 2 columns]"
      ]
     },
     "execution_count": 64,
     "metadata": {},
     "output_type": "execute_result"
    }
   ],
   "source": [
    "data"
   ]
  },
  {
   "cell_type": "code",
   "execution_count": 65,
   "metadata": {},
   "outputs": [
    {
     "data": {
      "text/plain": [
       "{'First Party Collection/Use': 0,\n",
       " 'Third Party Sharing/Collection': 1,\n",
       " 'User Choice/Control': 2,\n",
       " 'Privacy contact information': 3,\n",
       " 'Introductory/Generic': 4,\n",
       " 'Practice not covered': 5,\n",
       " 'Data Security': 6,\n",
       " 'User Access, Edit and Deletion': 7,\n",
       " 'Policy Change': 8,\n",
       " 'Do Not Track': 9,\n",
       " 'International and Specific Audiences': 10,\n",
       " 'Data Retention': 11}"
      ]
     },
     "execution_count": 65,
     "metadata": {},
     "output_type": "execute_result"
    }
   ],
   "source": [
    "dict = {}\n",
    "\n",
    "def find_all_classes(text):\n",
    "    try:\n",
    "        dict[text]\n",
    "    except:\n",
    "        dict[text] = len(dict)\n",
    "           \n",
    "#data['class'].apply(find_all_classes)\n",
    "\n",
    "dict"
   ]
  },
  {
   "cell_type": "code",
   "execution_count": 66,
   "metadata": {},
   "outputs": [
    {
     "data": {
      "text/html": [
       "<div>\n",
       "<style scoped>\n",
       "    .dataframe tbody tr th:only-of-type {\n",
       "        vertical-align: middle;\n",
       "    }\n",
       "\n",
       "    .dataframe tbody tr th {\n",
       "        vertical-align: top;\n",
       "    }\n",
       "\n",
       "    .dataframe thead th {\n",
       "        text-align: right;\n",
       "    }\n",
       "</style>\n",
       "<table border=\"1\" class=\"dataframe\">\n",
       "  <thead>\n",
       "    <tr style=\"text-align: right;\">\n",
       "      <th></th>\n",
       "      <th>text</th>\n",
       "      <th>class</th>\n",
       "    </tr>\n",
       "  </thead>\n",
       "  <tbody>\n",
       "    <tr>\n",
       "      <th>0</th>\n",
       "      <td>information sci-news.com collect online sci-ne...</td>\n",
       "      <td>0</td>\n",
       "    </tr>\n",
       "    <tr>\n",
       "      <th>1</th>\n",
       "      <td>#name?</td>\n",
       "      <td>0</td>\n",
       "    </tr>\n",
       "    <tr>\n",
       "      <th>2</th>\n",
       "      <td>use cooky sci-news.com us cookie technology. c...</td>\n",
       "      <td>0</td>\n",
       "    </tr>\n",
       "    <tr>\n",
       "      <th>3</th>\n",
       "      <td>course visit sci-news.com website, page see, a...</td>\n",
       "      <td>0</td>\n",
       "    </tr>\n",
       "    <tr>\n",
       "      <th>4</th>\n",
       "      <td>please note visit sci-news.com website notice ...</td>\n",
       "      <td>1</td>\n",
       "    </tr>\n",
       "    <tr>\n",
       "      <th>...</th>\n",
       "      <td>...</td>\n",
       "      <td>...</td>\n",
       "    </tr>\n",
       "    <tr>\n",
       "      <th>2634</th>\n",
       "      <td>information collected online information colle...</td>\n",
       "      <td>0</td>\n",
       "    </tr>\n",
       "    <tr>\n",
       "      <th>2635</th>\n",
       "      <td>information collected online information colle...</td>\n",
       "      <td>1</td>\n",
       "    </tr>\n",
       "    <tr>\n",
       "      <th>2636</th>\n",
       "      <td>information collected mohegan sun addition inf...</td>\n",
       "      <td>0</td>\n",
       "    </tr>\n",
       "    <tr>\n",
       "      <th>2637</th>\n",
       "      <td>information collected mohegan sun addition inf...</td>\n",
       "      <td>1</td>\n",
       "    </tr>\n",
       "    <tr>\n",
       "      <th>2638</th>\n",
       "      <td>special note child site intended children. chi...</td>\n",
       "      <td>10</td>\n",
       "    </tr>\n",
       "  </tbody>\n",
       "</table>\n",
       "<p>2639 rows × 2 columns</p>\n",
       "</div>"
      ],
      "text/plain": [
       "                                                   text  class\n",
       "0     information sci-news.com collect online sci-ne...      0\n",
       "1                                                #name?      0\n",
       "2     use cooky sci-news.com us cookie technology. c...      0\n",
       "3     course visit sci-news.com website, page see, a...      0\n",
       "4     please note visit sci-news.com website notice ...      1\n",
       "...                                                 ...    ...\n",
       "2634  information collected online information colle...      0\n",
       "2635  information collected online information colle...      1\n",
       "2636  information collected mohegan sun addition inf...      0\n",
       "2637  information collected mohegan sun addition inf...      1\n",
       "2638  special note child site intended children. chi...     10\n",
       "\n",
       "[2639 rows x 2 columns]"
      ]
     },
     "execution_count": 66,
     "metadata": {},
     "output_type": "execute_result"
    }
   ],
   "source": [
    "def replace_classes_with_numbers(text):\n",
    "    return dict[text]\n",
    "\n",
    "data['class'] =data['class'].apply(replace_classes_with_numbers)\n",
    "\n",
    "data"
   ]
  },
  {
   "cell_type": "code",
   "execution_count": 35,
   "metadata": {},
   "outputs": [
    {
     "name": "stdout",
     "output_type": "stream",
     "text": [
      "0       information sci-news.com collect online sci-ne...\n",
      "1                                                  #name?\n",
      "2       use cookies sci-news.com uses cookie technolog...\n",
      "3       course visit sci-news.com website, pages see, ...\n",
      "4       please note visits sci-news.com website notice...\n",
      "                              ...                        \n",
      "2634    information collected online information colle...\n",
      "2635    information collected online information colle...\n",
      "2636    information collected mohegan sun addition inf...\n",
      "2637    information collected mohegan sun addition inf...\n",
      "2638    special note children site intended children. ...\n",
      "Name: text, Length: 2639, dtype: object\n"
     ]
    }
   ],
   "source": [
    "stop_words = stopwords.words('english')\n",
    "stop_words.append('may') #???\n",
    "data['text'] = data['text'].apply(lambda x: ' '.join([word for word in x.split() if word not in (stop_words)]))\n",
    "print(data['text'])"
   ]
  },
  {
   "cell_type": "code",
   "execution_count": 43,
   "metadata": {},
   "outputs": [],
   "source": [
    "w_tokenizer = nltk.tokenize.WhitespaceTokenizer()\n",
    "lemmatizer = nltk.stem.WordNetLemmatizer()\n",
    "\n",
    "def lemmatize_text(text):\n",
    "    return ' '.join([lemmatizer.lemmatize(w) for w in w_tokenizer.tokenize(text)])\n",
    "\n",
    "data['text'] = data['text'].apply(lemmatize_text)"
   ]
  },
  {
   "cell_type": "code",
   "execution_count": 67,
   "metadata": {},
   "outputs": [],
   "source": [
    "#data.to_csv('preprocessed.csv')"
   ]
  },
  {
   "cell_type": "code",
   "execution_count": 81,
   "metadata": {},
   "outputs": [
    {
     "name": "stdout",
     "output_type": "stream",
     "text": [
      "0     781\n",
      "1     584\n",
      "4     240\n",
      "2     233\n",
      "10    204\n",
      "6     139\n",
      "3     129\n",
      "7     101\n",
      "5      83\n",
      "8      73\n",
      "11     50\n",
      "9      22\n",
      "Name: class, dtype: int64\n"
     ]
    },
    {
     "data": {
      "text/plain": [
       "<matplotlib.axes._subplots.AxesSubplot at 0x1ec0314be80>"
      ]
     },
     "execution_count": 81,
     "metadata": {},
     "output_type": "execute_result"
    },
    {
     "data": {
      "image/png": "[encoded data removed]",
      "text/plain": [
       "<Figure size 432x288 with 1 Axes>"
      ]
     },
     "metadata": {
      "needs_background": "light"
     },
     "output_type": "display_data"
    }
   ],
   "source": [
    "print(data['class'].value_counts())\n",
    "data['class'].value_counts().plot(kind='bar')"
   ]
  },
  {
   "cell_type": "code",
   "execution_count": null,
   "metadata": {},
   "outputs": [],
   "source": []
  }
 ],
 "metadata": {
  "kernelspec": {
   "display_name": "Python 3",
   "language": "python",
   "name": "python3"
  },
  "language_info": {
   "codemirror_mode": {
    "name": "ipython",
    "version": 3
   },
   "file_extension": ".py",
   "mimetype": "text/x-python",
   "name": "python",
   "nbconvert_exporter": "python",
   "pygments_lexer": "ipython3",
   "version": "3.6.8"
  }
 },
 "nbformat": 4,
 "nbformat_minor": 2
}
