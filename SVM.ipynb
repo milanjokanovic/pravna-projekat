{
 "cells": [
  {
   "cell_type": "code",
   "execution_count": 63,
   "metadata": {},
   "outputs": [],
   "source": [
    "import pandas as pd\n",
    "import numpy as np\n",
    "from sklearn.feature_extraction.text import TfidfVectorizer\n",
    "from sklearn.metrics import classification_report\n",
    "from sklearn.model_selection import PredefinedSplit\n",
    "from sklearn.pipeline import Pipeline, make_pipeline\n",
    "from sklearn.svm import SVC\n",
    "from sklearn.model_selection import train_test_split,cross_val_score,GridSearchCV,cross_val_predict\n",
    "from sklearn.linear_model import LogisticRegression\n",
    "from sklearn.metrics import accuracy_score\n",
    "from sklearn.model_selection import KFold\n",
    "from sklearn.neighbors import KNeighborsClassifier\n",
    "from sklearn.tree import DecisionTreeClassifier\n",
    "from sklearn.preprocessing import StandardScaler"
   ]
  },
  {
   "cell_type": "code",
   "execution_count": 4,
   "metadata": {},
   "outputs": [],
   "source": [
    "data = pd.read_csv('dataset/train_preprocessed.csv')\n",
    "data.dropna(inplace = True)"
   ]
  },
  {
   "cell_type": "code",
   "execution_count": 82,
   "metadata": {},
   "outputs": [],
   "source": [
    "def vectorize(data):\n",
    "    tfidf = TfidfVectorizer(stop_words='english', ngram_range=(1, 2), lowercase=True, max_features=11000)\n",
    "    fit_data=tfidf.fit_transform(data)\n",
    "    return fit_data"
   ]
  },
  {
   "cell_type": "code",
   "execution_count": 83,
   "metadata": {},
   "outputs": [],
   "source": [
    "train_set = vectorize(data['text'])"
   ]
  },
  {
   "cell_type": "code",
   "execution_count": 84,
   "metadata": {},
   "outputs": [
    {
     "data": {
      "text/plain": [
       "((15485, 11000), (15485,), (3872, 11000), (3872,))"
      ]
     },
     "execution_count": 84,
     "metadata": {},
     "output_type": "execute_result"
    }
   ],
   "source": [
    "train_stratify_y = data['class']\n",
    "train_x, test_x, train_y, test_y = train_test_split(train_set,train_stratify_y,test_size=0.2,random_state=42,stratify=train_stratify_y)\n",
    "train_x.shape,train_y.shape,test_x.shape,test_y.shape"
   ]
  },
  {
   "cell_type": "code",
   "execution_count": 76,
   "metadata": {},
   "outputs": [
    {
     "name": "stdout",
     "output_type": "stream",
     "text": [
      "Accuracy Score for SVC  =0.8207644628099173\n"
     ]
    }
   ],
   "source": [
    "model=SVC()\n",
    "model.fit(train_x,train_y)\n",
    "pred=model.predict(test_x)\n",
    "\n",
    "print(f\"Accuracy Score for SVC  ={accuracy_score(test_y,pred)}\")"
   ]
  },
  {
   "cell_type": "code",
   "execution_count": 77,
   "metadata": {},
   "outputs": [
    {
     "name": "stdout",
     "output_type": "stream",
     "text": [
      "Statistical Model TFIDF- Baseline Evaluation\n",
      "=======================\n",
      "Classifiers:  LogisticRregression Has a training score of 79.0 % accuracy score\n",
      "=======================\n",
      "Classifiers:  KNearestNeighbors Has a training score of 65.0 % accuracy score\n",
      "=======================\n",
      "Classifiers:  DecisionTree Has a training score of 69.0 % accuracy score\n",
      "=======================\n",
      "Classifiers:  SupportVectorClassifier Has a training score of 80.0 % accuracy score\n"
     ]
    }
   ],
   "source": [
    "models=[]\n",
    "models.append(('LogisticRregression',LogisticRegression(C=1.0,penalty='l2', max_iter=1000)))\n",
    "models.append(('KNearestNeighbors',KNeighborsClassifier()))\n",
    "models.append(('DecisionTree',DecisionTreeClassifier(criterion='entropy')))\n",
    "#models.append(('GradientBoostClassifier',GradientBoostingClassifier(learning_rate=1e-2, loss='deviance',n_estimators=100)))\n",
    "#models.append(('AdaBoostClassifier',AdaBoostClassifier(learning_rate=1e-2,algorithm='SAMME.R',n_estimators=100)))\n",
    "models.append(('SupportVectorClassifier',SVC(C=1.0,kernel='sigmoid')))\n",
    "model_result=[]\n",
    "scoring='accuracy'\n",
    "model_training_result,model_validation_result=[],[]\n",
    "print(\"Statistical Model TFIDF- Baseline Evaluation\")\n",
    "for name,model in models:\n",
    "    kfold=KFold(n_splits=10)\n",
    "    results=cross_val_score(model,train_x,train_y,cv=kfold)\n",
    "    print(\"=======================\")\n",
    "    print(\"Classifiers: \",name, \"Has a training score of\", round(results.mean(), 2) * 100, \"% accuracy score\")\n",
    "    #model_result.append(results.mean())\n",
    "    \n",
    "    predictions=cross_val_predict(model,test_x,test_y)\n",
    "    accuracy = accuracy_score(predictions,test_y)\n",
    "    model_training_result.append(results.mean())\n",
    "    model_validation_result.append(accuracy)\n",
    "\n",
    "final_outcomes=pd.DataFrame(columns=['Model','Training Acc','Validation Acc'])\n",
    "final_outcomes['Model']=models\n",
    "final_outcomes['Training Acc']=model_training_result\n",
    "final_outcomes['Validation Acc']=model_validation_result"
   ]
  },
  {
   "cell_type": "code",
   "execution_count": 78,
   "metadata": {},
   "outputs": [
    {
     "data": {
      "text/html": [
       "<div>\n",
       "<style>\n",
       "    .dataframe thead tr:only-child th {\n",
       "        text-align: right;\n",
       "    }\n",
       "\n",
       "    .dataframe thead th {\n",
       "        text-align: left;\n",
       "    }\n",
       "\n",
       "    .dataframe tbody tr th {\n",
       "        vertical-align: top;\n",
       "    }\n",
       "</style>\n",
       "<table border=\"1\" class=\"dataframe\">\n",
       "  <thead>\n",
       "    <tr style=\"text-align: right;\">\n",
       "      <th></th>\n",
       "      <th>Model</th>\n",
       "      <th>Training Acc</th>\n",
       "      <th>Validation Acc</th>\n",
       "    </tr>\n",
       "  </thead>\n",
       "  <tbody>\n",
       "    <tr>\n",
       "      <th>0</th>\n",
       "      <td>(LogisticRregression, LogisticRegression(max_i...</td>\n",
       "      <td>0.792251</td>\n",
       "      <td>0.705062</td>\n",
       "    </tr>\n",
       "    <tr>\n",
       "      <th>1</th>\n",
       "      <td>(KNearestNeighbors, KNeighborsClassifier())</td>\n",
       "      <td>0.652051</td>\n",
       "      <td>0.488895</td>\n",
       "    </tr>\n",
       "    <tr>\n",
       "      <th>2</th>\n",
       "      <td>(DecisionTree, DecisionTreeClassifier(criterio...</td>\n",
       "      <td>0.693833</td>\n",
       "      <td>0.623192</td>\n",
       "    </tr>\n",
       "    <tr>\n",
       "      <th>3</th>\n",
       "      <td>(SupportVectorClassifier, SVC(kernel='sigmoid'))</td>\n",
       "      <td>0.799485</td>\n",
       "      <td>0.744835</td>\n",
       "    </tr>\n",
       "  </tbody>\n",
       "</table>\n",
       "</div>"
      ],
      "text/plain": [
       "                                               Model  Training Acc  \\\n",
       "0  (LogisticRregression, LogisticRegression(max_i...      0.792251   \n",
       "1        (KNearestNeighbors, KNeighborsClassifier())      0.652051   \n",
       "2  (DecisionTree, DecisionTreeClassifier(criterio...      0.693833   \n",
       "3   (SupportVectorClassifier, SVC(kernel='sigmoid'))      0.799485   \n",
       "\n",
       "   Validation Acc  \n",
       "0        0.705062  \n",
       "1        0.488895  \n",
       "2        0.623192  \n",
       "3        0.744835  "
      ]
     },
     "execution_count": 78,
     "metadata": {},
     "output_type": "execute_result"
    }
   ],
   "source": [
    "final_outcomes"
   ]
  },
  {
   "cell_type": "code",
   "execution_count": 91,
   "metadata": {},
   "outputs": [],
   "source": [
    "clf = make_pipeline(StandardScaler(with_mean=False), SVC(gamma='auto', kernel='sigmoid', C=1))\n",
    "clf.fit(train_x, train_y)\n",
    "pred = clf.predict(test_x)\n",
    "\n",
    "acc = accuracy_score(test_y, pred)\n"
   ]
  },
  {
   "cell_type": "code",
   "execution_count": 92,
   "metadata": {},
   "outputs": [
    {
     "name": "stdout",
     "output_type": "stream",
     "text": [
      "              precision    recall  f1-score   support\n",
      "\n",
      "           0       0.69      0.60      0.64       480\n",
      "           1       0.87      0.75      0.80        88\n",
      "           2       0.79      0.92      0.85      1573\n",
      "           3       0.83      0.45      0.58        67\n",
      "           4       0.73      0.68      0.70       112\n",
      "           5       0.83      0.80      0.81       942\n",
      "           6       0.76      0.63      0.69       316\n",
      "           7       0.83      0.68      0.75       134\n",
      "           8       0.86      0.63      0.72       147\n",
      "           9       1.00      0.85      0.92        13\n",
      "\n",
      "    accuracy                           0.79      3872\n",
      "   macro avg       0.82      0.70      0.75      3872\n",
      "weighted avg       0.79      0.79      0.78      3872\n",
      "\n"
     ]
    }
   ],
   "source": [
    "result = classification_report(test_y, pred)\n",
    "print(result)"
   ]
  },
  {
   "cell_type": "code",
   "execution_count": 93,
   "metadata": {},
   "outputs": [
    {
     "data": {
      "text/plain": [
       "0.7902892561983471"
      ]
     },
     "execution_count": 93,
     "metadata": {},
     "output_type": "execute_result"
    }
   ],
   "source": [
    "acc"
   ]
  },
  {
   "cell_type": "code",
   "execution_count": null,
   "metadata": {},
   "outputs": [],
   "source": []
  }
 ],
 "metadata": {
  "kernelspec": {
   "display_name": "Python 3",
   "language": "python",
   "name": "python3"
  },
  "language_info": {
   "codemirror_mode": {
    "name": "ipython",
    "version": 3
   },
   "file_extension": ".py",
   "mimetype": "text/x-python",
   "name": "python",
   "nbconvert_exporter": "python",
   "pygments_lexer": "ipython3",
   "version": "3.6.8"
  }
 },
 "nbformat": 4,
 "nbformat_minor": 2
}
