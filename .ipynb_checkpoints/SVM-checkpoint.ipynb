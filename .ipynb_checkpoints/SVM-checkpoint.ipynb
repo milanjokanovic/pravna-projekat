{
 "cells": [
  {
   "cell_type": "code",
   "execution_count": 27,
   "metadata": {},
   "outputs": [],
   "source": [
    "import pandas as pd\n",
    "import numpy as np\n",
    "from sklearn.feature_extraction.text import TfidfVectorizer\n",
    "from sklearn.metrics import classification_report\n",
    "from sklearn.model_selection import PredefinedSplit\n",
    "from sklearn.pipeline import Pipeline, make_pipeline\n",
    "from sklearn.svm import SVC\n",
    "from sklearn.model_selection import train_test_split,cross_val_score,GridSearchCV,cross_val_predict\n",
    "from sklearn.linear_model import LogisticRegression\n",
    "from sklearn.metrics import accuracy_score\n",
    "from sklearn.model_selection import KFold\n",
    "from sklearn.neighbors import KNeighborsClassifier\n",
    "from sklearn.tree import DecisionTreeClassifier\n",
    "from sklearn.preprocessing import StandardScaler\n",
    "from sklearn.pipeline import Pipeline"
   ]
  },
  {
   "cell_type": "code",
   "execution_count": 28,
   "metadata": {},
   "outputs": [],
   "source": [
    "data = pd.read_csv('dataset/train_preprocessed.csv')\n",
    "data.dropna(inplace = True)"
   ]
  },
  {
   "cell_type": "code",
   "execution_count": 29,
   "metadata": {},
   "outputs": [
    {
     "data": {
      "text/plain": [
       "((15485,), (15485,), (3872,), (3872,))"
      ]
     },
     "execution_count": 29,
     "metadata": {},
     "output_type": "execute_result"
    }
   ],
   "source": [
    "train_stratify_y = data['class']\n",
    "train_x, test_x, train_y, test_y = train_test_split(data['text'],train_stratify_y,test_size=0.2,random_state=42,stratify=train_stratify_y)\n",
    "train_x.shape,train_y.shape,test_x.shape,test_y.shape"
   ]
  },
  {
   "cell_type": "code",
   "execution_count": 30,
   "metadata": {},
   "outputs": [],
   "source": [
    "tfidf = TfidfVectorizer(ngram_range=(1, 3), lowercase=True, max_features=11000)\n",
    "train_x=tfidf.fit_transform(train_x)\n",
    "test_x=tfidf.transform(test_x)\n",
    "\n",
    "clf = SVC(kernel='rbf', C=2, gamma='scale')\n",
    "clf.fit(train_x, train_y)\n",
    "pred = clf.predict(test_x)"
   ]
  },
  {
   "cell_type": "code",
   "execution_count": 31,
   "metadata": {},
   "outputs": [
    {
     "name": "stdout",
     "output_type": "stream",
     "text": [
      "              precision    recall  f1-score   support\n",
      "\n",
      "           0       0.72      0.63      0.67       480\n",
      "           1       0.90      0.78      0.84        88\n",
      "           2       0.84      0.93      0.88      1573\n",
      "           3       0.79      0.55      0.65        67\n",
      "           4       0.72      0.72      0.72       112\n",
      "           5       0.87      0.88      0.87       942\n",
      "           6       0.80      0.73      0.76       316\n",
      "           7       0.84      0.79      0.82       134\n",
      "           8       0.88      0.65      0.75       147\n",
      "           9       1.00      0.77      0.87        13\n",
      "\n",
      "   micro avg       0.83      0.83      0.83      3872\n",
      "   macro avg       0.83      0.74      0.78      3872\n",
      "weighted avg       0.83      0.83      0.83      3872\n",
      "\n"
     ]
    }
   ],
   "source": [
    "result = classification_report(test_y, pred)\n",
    "print(result)"
   ]
  },
  {
   "cell_type": "code",
   "execution_count": 32,
   "metadata": {},
   "outputs": [
    {
     "data": {
      "text/plain": [
       "0.8300619834710744"
      ]
     },
     "execution_count": 32,
     "metadata": {},
     "output_type": "execute_result"
    }
   ],
   "source": [
    "accuracy_score(test_y, pred)"
   ]
  },
  {
   "cell_type": "code",
   "execution_count": null,
   "metadata": {},
   "outputs": [],
   "source": []
  }
 ],
 "metadata": {
  "kernelspec": {
   "display_name": "Python 3",
   "language": "python",
   "name": "python3"
  },
  "language_info": {
   "codemirror_mode": {
    "name": "ipython",
    "version": 3
   },
   "file_extension": ".py",
   "mimetype": "text/x-python",
   "name": "python",
   "nbconvert_exporter": "python",
   "pygments_lexer": "ipython3",
   "version": "3.5.0"
  }
 },
 "nbformat": 4,
 "nbformat_minor": 2
}
