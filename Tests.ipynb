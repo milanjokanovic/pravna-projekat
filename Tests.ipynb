{
 "cells": [
  {
   "cell_type": "markdown",
   "metadata": {},
   "source": [
    "<h3>Model tests</h3>"
   ]
  },
  {
   "cell_type": "markdown",
   "metadata": {},
   "source": [
    ">KNN test"
   ]
  },
  {
   "cell_type": "code",
   "execution_count": 1,
   "metadata": {},
   "outputs": [],
   "source": [
    "import pickle\n",
    "import pandas as pd\n",
    "from sklearn.metrics import classification_report\n",
    "import numpy as np\n",
    "from keras.models import model_from_json\n",
    "import os\n",
    "from keras.models import load_model\n",
    "from tensorflow.keras.layers import TextVectorization\n",
    "from keras.preprocessing.sequence import pad_sequences"
   ]
  },
  {
   "cell_type": "code",
   "execution_count": 2,
   "metadata": {},
   "outputs": [],
   "source": [
    "test_data = pd.read_csv('dataset/test_preprocessed.csv')\n",
    "X_test = test_data['text']\n",
    "Y_test = test_data['class']"
   ]
  },
  {
   "cell_type": "code",
   "execution_count": 3,
   "metadata": {},
   "outputs": [
    {
     "name": "stdout",
     "output_type": "stream",
     "text": [
      "              precision    recall  f1-score   support\n",
      "\n",
      "           0       0.63      0.49      0.55       744\n",
      "           1       0.81      0.80      0.80       139\n",
      "           2       0.80      0.90      0.85      2329\n",
      "           3       0.70      0.50      0.58       105\n",
      "           4       0.67      0.80      0.73       172\n",
      "           5       0.79      0.82      0.81      1381\n",
      "           6       0.71      0.58      0.64       477\n",
      "           7       0.78      0.71      0.74       205\n",
      "           8       0.86      0.70      0.77       236\n",
      "           9       0.94      0.85      0.89        20\n",
      "\n",
      "    accuracy                           0.77      5808\n",
      "   macro avg       0.77      0.71      0.74      5808\n",
      "weighted avg       0.77      0.77      0.77      5808\n",
      "\n"
     ]
    }
   ],
   "source": [
    "loaded_model = pickle.load(open(\"models/KNN.sav\", 'rb'))\n",
    "\n",
    "print(classification_report(Y_test,loaded_model.predict(X_test)))"
   ]
  },
  {
   "cell_type": "code",
   "execution_count": 4,
   "metadata": {},
   "outputs": [
    {
     "name": "stderr",
     "output_type": "stream",
     "text": [
      "C:\\Users\\Milan\\AppData\\Local\\Temp\\ipykernel_11652\\3232089668.py:1: DeprecationWarning: Please use `csr_matrix` from the `scipy.sparse` namespace, the `scipy.sparse.csr` namespace is deprecated.\n",
      "  SVM_X_test=pickle.load(open(\"models/SVM_Vectorizer.pk\", 'rb')).transform(X_test)\n",
      "C:\\Users\\Milan\\AppData\\Local\\Temp\\ipykernel_11652\\3232089668.py:2: DeprecationWarning: Please use `csr_matrix` from the `scipy.sparse` namespace, the `scipy.sparse.csr` namespace is deprecated.\n",
      "  loaded_model = pickle.load(open(\"models/SVM.sav\", 'rb'))\n"
     ]
    },
    {
     "name": "stdout",
     "output_type": "stream",
     "text": [
      "              precision    recall  f1-score   support\n",
      "\n",
      "           0       0.71      0.61      0.66       744\n",
      "           1       0.88      0.76      0.81       139\n",
      "           2       0.82      0.93      0.87      2329\n",
      "           3       0.77      0.50      0.61       105\n",
      "           4       0.82      0.78      0.80       172\n",
      "           5       0.85      0.86      0.85      1381\n",
      "           6       0.78      0.65      0.71       477\n",
      "           7       0.88      0.71      0.79       205\n",
      "           8       0.92      0.75      0.83       236\n",
      "           9       1.00      1.00      1.00        20\n",
      "\n",
      "    accuracy                           0.82      5808\n",
      "   macro avg       0.84      0.76      0.79      5808\n",
      "weighted avg       0.82      0.82      0.81      5808\n",
      "\n"
     ]
    }
   ],
   "source": [
    "SVM_X_test=pickle.load(open(\"models/SVM_Vectorizer.pk\", 'rb')).transform(X_test)\n",
    "loaded_model = pickle.load(open(\"models/SVM.sav\", 'rb'))\n",
    "\n",
    "print(classification_report(Y_test,loaded_model.predict(SVM_X_test)))"
   ]
  },
  {
   "cell_type": "code",
   "execution_count": 5,
   "metadata": {},
   "outputs": [
    {
     "name": "stdout",
     "output_type": "stream",
     "text": [
      "              precision    recall  f1-score   support\n",
      "\n",
      "           0       0.66      0.59      0.62       744\n",
      "           1       0.85      0.78      0.82       139\n",
      "           2       0.85      0.86      0.86      2329\n",
      "           3       0.62      0.48      0.54       105\n",
      "           4       0.75      0.73      0.74       172\n",
      "           5       0.81      0.84      0.82      1381\n",
      "           6       0.65      0.70      0.68       477\n",
      "           7       0.76      0.80      0.78       205\n",
      "           8       0.83      0.76      0.79       236\n",
      "           9       0.94      0.75      0.83        20\n",
      "\n",
      "    accuracy                           0.79      5808\n",
      "   macro avg       0.77      0.73      0.75      5808\n",
      "weighted avg       0.79      0.79      0.79      5808\n",
      "\n"
     ]
    }
   ],
   "source": [
    "with open('models/LSTM_Tokenizer.pickle', 'rb') as handle:\n",
    "    tokenizer = pickle.load(handle)\n",
    "\n",
    "MAX_SEQUENCE_LENGTH = 100\n",
    "X_test_transformed = tokenizer.texts_to_sequences(X_test.values)\n",
    "X_test_transformed = pad_sequences(X_test_transformed, maxlen=MAX_SEQUENCE_LENGTH)\n",
    "loaded_model = load_model('models/LSTM.h5')\n",
    "\n",
    "predicted = loaded_model.predict(X_test_transformed)\n",
    "Y_predict = np.argmax(predicted, axis=1)\n",
    "\n",
    "print(classification_report(Y_test,Y_predict))"
   ]
  },
  {
   "cell_type": "code",
   "execution_count": 6,
   "metadata": {},
   "outputs": [
    {
     "name": "stdout",
     "output_type": "stream",
     "text": [
      "              precision    recall  f1-score   support\n",
      "\n",
      "           0       0.69      0.58      0.63       744\n",
      "           1       0.88      0.74      0.80       139\n",
      "           2       0.80      0.88      0.84      2329\n",
      "           3       0.75      0.40      0.52       105\n",
      "           4       0.84      0.80      0.82       172\n",
      "           5       0.79      0.83      0.81      1381\n",
      "           6       0.71      0.67      0.69       477\n",
      "           7       0.81      0.71      0.75       205\n",
      "           8       0.86      0.69      0.76       236\n",
      "           9       1.00      0.70      0.82        20\n",
      "\n",
      "    accuracy                           0.79      5808\n",
      "   macro avg       0.81      0.70      0.75      5808\n",
      "weighted avg       0.78      0.79      0.78      5808\n",
      "\n"
     ]
    }
   ],
   "source": [
    "from_disk = pickle.load(open(\"models/LSTM_GloVe_Vectorizer.pkl\", \"rb\"))\n",
    "vectorizer = TextVectorization.from_config(from_disk['config'])\n",
    "vectorizer.set_weights(from_disk['weights'])\n",
    "\n",
    "X_test_transformed = vectorizer(np.array([[s] for s in X_test])).numpy()\n",
    "\n",
    "loaded_model = load_model('models/LSTM_GloVe_keras.h5')\n",
    "\n",
    "predicted = loaded_model.predict(X_test_transformed)\n",
    "Y_predict = np.argmax(predicted, axis=1)\n",
    "\n",
    "print(classification_report(Y_test,Y_predict))"
   ]
  },
  {
   "cell_type": "code",
   "execution_count": 7,
   "metadata": {},
   "outputs": [
    {
     "data": {
      "application/vnd.jupyter.widget-view+json": {
       "model_id": "538ec8c9227447d79cfd8b21943b91cd",
       "version_major": 2,
       "version_minor": 0
      },
      "text/plain": [
       "  0%|          | 0/5808 [00:00<?, ?it/s]"
      ]
     },
     "metadata": {},
     "output_type": "display_data"
    },
    {
     "data": {
      "application/vnd.jupyter.widget-view+json": {
       "model_id": "75c0c4c25ab4486083c2ff224934cc67",
       "version_major": 2,
       "version_minor": 0
      },
      "text/plain": [
       "  0%|          | 0/726 [00:00<?, ?it/s]"
      ]
     },
     "metadata": {},
     "output_type": "display_data"
    },
    {
     "name": "stdout",
     "output_type": "stream",
     "text": [
      "              precision    recall  f1-score   support\n",
      "\n",
      "           0       0.71      0.68      0.70       744\n",
      "           1       0.89      0.79      0.84       139\n",
      "           2       0.85      0.90      0.88      2329\n",
      "           3       0.82      0.62      0.71       105\n",
      "           4       0.85      0.77      0.80       172\n",
      "           5       0.85      0.86      0.85      1381\n",
      "           6       0.75      0.69      0.72       477\n",
      "           7       0.89      0.79      0.84       205\n",
      "           8       0.88      0.81      0.84       236\n",
      "           9       1.00      0.95      0.97        20\n",
      "\n",
      "    accuracy                           0.83      5808\n",
      "   macro avg       0.85      0.79      0.81      5808\n",
      "weighted avg       0.83      0.83      0.83      5808\n",
      "\n"
     ]
    }
   ],
   "source": [
    "loaded_model = pickle.load(open(\"models/BERT.sav\", 'rb'))\n",
    "predicted = loaded_model.predict(list(X_test))\n",
    "\n",
    "Y_predict = np.array(predicted[1])\n",
    "Y_predict = np.argmax(Y_predict, axis=1)\n",
    "\n",
    "print(classification_report(Y_test, Y_predict))"
   ]
  },
  {
   "cell_type": "code",
   "execution_count": null,
   "metadata": {},
   "outputs": [],
   "source": []
  }
 ],
 "metadata": {
  "kernelspec": {
   "display_name": "Python 3 (ipykernel)",
   "language": "python",
   "name": "python3"
  },
  "language_info": {
   "codemirror_mode": {
    "name": "ipython",
    "version": 3
   },
   "file_extension": ".py",
   "mimetype": "text/x-python",
   "name": "python",
   "nbconvert_exporter": "python",
   "pygments_lexer": "ipython3",
   "version": "3.8.6"
  }
 },
 "nbformat": 4,
 "nbformat_minor": 2
}
