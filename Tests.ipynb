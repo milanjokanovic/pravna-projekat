{
 "cells": [
  {
   "cell_type": "markdown",
   "metadata": {},
   "source": [
    "<h3>Model tests</h3>"
   ]
  },
  {
   "cell_type": "markdown",
   "metadata": {},
   "source": [
    ">KNN test"
   ]
  },
  {
   "cell_type": "code",
   "execution_count": 21,
   "metadata": {},
   "outputs": [],
   "source": [
    "import pickle\n",
    "import pandas as pd\n",
    "from sklearn.metrics import classification_report\n",
    "import numpy as np\n",
    "from keras.models import model_from_json\n",
    "import os\n",
    "from keras.models import load_model\n",
    "from tensorflow.keras.layers import TextVectorization"
   ]
  },
  {
   "cell_type": "code",
   "execution_count": 7,
   "metadata": {},
   "outputs": [],
   "source": [
    "test_data = pd.read_csv('dataset/test_preprocessed.csv')\n",
    "X_test = test_data['text']\n",
    "Y_test = test_data['class']"
   ]
  },
  {
   "cell_type": "code",
   "execution_count": 12,
   "metadata": {},
   "outputs": [
    {
     "name": "stdout",
     "output_type": "stream",
     "text": [
      "              precision    recall  f1-score   support\n",
      "\n",
      "           0       0.63      0.49      0.55       744\n",
      "           1       0.81      0.80      0.80       139\n",
      "           2       0.80      0.90      0.85      2329\n",
      "           3       0.70      0.50      0.58       105\n",
      "           4       0.67      0.80      0.73       172\n",
      "           5       0.79      0.82      0.81      1381\n",
      "           6       0.71      0.58      0.64       477\n",
      "           7       0.78      0.71      0.74       205\n",
      "           8       0.86      0.70      0.77       236\n",
      "           9       0.94      0.85      0.89        20\n",
      "\n",
      "    accuracy                           0.77      5808\n",
      "   macro avg       0.77      0.71      0.74      5808\n",
      "weighted avg       0.77      0.77      0.77      5808\n",
      "\n"
     ]
    }
   ],
   "source": [
    "loaded_model = pickle.load(open(\"models/KNN.sav\", 'rb'))\n",
    "\n",
    "print(classification_report(Y_test,loaded_model.predict(X_test)))"
   ]
  },
  {
   "cell_type": "code",
   "execution_count": 37,
   "metadata": {},
   "outputs": [
    {
     "name": "stdout",
     "output_type": "stream",
     "text": [
      "              precision    recall  f1-score   support\n",
      "\n",
      "           0       0.69      0.58      0.63       744\n",
      "           1       0.88      0.74      0.80       139\n",
      "           2       0.80      0.88      0.84      2329\n",
      "           3       0.75      0.40      0.52       105\n",
      "           4       0.84      0.80      0.82       172\n",
      "           5       0.79      0.83      0.81      1381\n",
      "           6       0.71      0.67      0.69       477\n",
      "           7       0.81      0.71      0.75       205\n",
      "           8       0.86      0.69      0.76       236\n",
      "           9       1.00      0.70      0.82        20\n",
      "\n",
      "    accuracy                           0.79      5808\n",
      "   macro avg       0.81      0.70      0.75      5808\n",
      "weighted avg       0.78      0.79      0.78      5808\n",
      "\n"
     ]
    }
   ],
   "source": [
    "from_disk = pickle.load(open(\"models/LSTM_GloVe_Vectorizer.pkl\", \"rb\"))\n",
    "vectorizer = TextVectorization.from_config(from_disk['config'])\n",
    "vectorizer.set_weights(from_disk['weights'])\n",
    "\n",
    "X_test_transformed = vectorizer(np.array([[s] for s in X_test])).numpy()\n",
    "\n",
    "loaded_model = load_model('models/LSTM_GloVe_keras.h5')\n",
    "\n",
    "predicted = loaded_model.predict(X_test_transformed)\n",
    "Y_predict = np.argmax(predicted, axis=1)\n",
    "\n",
    "print(classification_report(Y_test,Y_predict))"
   ]
  },
  {
   "cell_type": "code",
   "execution_count": 22,
   "metadata": {},
   "outputs": [
    {
     "data": {
      "application/vnd.jupyter.widget-view+json": {
       "model_id": "126279f35a9d4b21bb7e8b4953bd98fe",
       "version_major": 2,
       "version_minor": 0
      },
      "text/plain": [
       "  0%|          | 0/5808 [00:00<?, ?it/s]"
      ]
     },
     "metadata": {},
     "output_type": "display_data"
    },
    {
     "data": {
      "application/vnd.jupyter.widget-view+json": {
       "model_id": "0bd80966a99a4dba80c62319f55712fb",
       "version_major": 2,
       "version_minor": 0
      },
      "text/plain": [
       "  0%|          | 0/726 [00:00<?, ?it/s]"
      ]
     },
     "metadata": {},
     "output_type": "display_data"
    },
    {
     "name": "stdout",
     "output_type": "stream",
     "text": [
      "              precision    recall  f1-score   support\n",
      "\n",
      "           0       0.71      0.68      0.70       744\n",
      "           1       0.89      0.79      0.84       139\n",
      "           2       0.85      0.90      0.88      2329\n",
      "           3       0.82      0.62      0.71       105\n",
      "           4       0.85      0.77      0.80       172\n",
      "           5       0.85      0.86      0.85      1381\n",
      "           6       0.75      0.69      0.72       477\n",
      "           7       0.89      0.79      0.84       205\n",
      "           8       0.88      0.81      0.84       236\n",
      "           9       1.00      0.95      0.97        20\n",
      "\n",
      "    accuracy                           0.83      5808\n",
      "   macro avg       0.85      0.79      0.81      5808\n",
      "weighted avg       0.83      0.83      0.83      5808\n",
      "\n"
     ]
    }
   ],
   "source": [
    "loaded_model = pickle.load(open(\"models/BERT.sav\", 'rb'))\n",
    "predicted = loaded_model.predict(list(X_test))\n",
    "\n",
    "Y_predict = np.array(predicted[1])\n",
    "Y_predict = np.argmax(Y_predict, axis=1)\n",
    "\n",
    "print(classification_report(Y_test, Y_predict))"
   ]
  },
  {
   "cell_type": "code",
   "execution_count": null,
   "metadata": {},
   "outputs": [],
   "source": []
  }
 ],
 "metadata": {
  "kernelspec": {
   "display_name": "Python 3 (ipykernel)",
   "language": "python",
   "name": "python3"
  },
  "language_info": {
   "codemirror_mode": {
    "name": "ipython",
    "version": 3
   },
   "file_extension": ".py",
   "mimetype": "text/x-python",
   "name": "python",
   "nbconvert_exporter": "python",
   "pygments_lexer": "ipython3",
   "version": "3.10.4"
  }
 },
 "nbformat": 4,
 "nbformat_minor": 2
}
