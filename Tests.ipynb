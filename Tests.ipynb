{
 "cells": [
  {
   "cell_type": "markdown",
   "metadata": {},
   "source": [
    "<h3>Model tests</h3>"
   ]
  },
  {
   "cell_type": "markdown",
   "metadata": {},
   "source": [
    ">KNN test"
   ]
  },
  {
   "cell_type": "code",
   "execution_count": 7,
   "metadata": {},
   "outputs": [],
   "source": [
    "import pickle\n",
    "import pandas as pd\n",
    "from sklearn.metrics import classification_report"
   ]
  },
  {
   "cell_type": "code",
   "execution_count": 8,
   "metadata": {},
   "outputs": [
    {
     "name": "stdout",
     "output_type": "stream",
     "text": [
      "              precision    recall  f1-score   support\n",
      "\n",
      "           0       0.63      0.49      0.55       744\n",
      "           1       0.81      0.80      0.80       139\n",
      "           2       0.80      0.90      0.85      2329\n",
      "           3       0.70      0.50      0.58       105\n",
      "           4       0.67      0.80      0.73       172\n",
      "           5       0.79      0.82      0.81      1381\n",
      "           6       0.71      0.58      0.64       477\n",
      "           7       0.78      0.71      0.74       205\n",
      "           8       0.86      0.70      0.77       236\n",
      "           9       0.94      0.85      0.89        20\n",
      "\n",
      "    accuracy                           0.77      5808\n",
      "   macro avg       0.77      0.71      0.74      5808\n",
      "weighted avg       0.77      0.77      0.77      5808\n",
      "\n"
     ]
    }
   ],
   "source": [
    "loaded_model = pickle.load(open(\"models/KNN.sav\", 'rb'))\n",
    "test_data = pd.read_csv('dataset/test_preprocessed.csv')\n",
    "X_test = test_data['text']\n",
    "Y_test = test_data['class']\n",
    "print(classification_report(Y_test,loaded_model.predict(X_test)))"
   ]
  },
  {
   "cell_type": "code",
   "execution_count": null,
   "metadata": {},
   "outputs": [],
   "source": []
  }
 ],
 "metadata": {
  "kernelspec": {
   "display_name": "Python 3 (ipykernel)",
   "language": "python",
   "name": "python3"
  },
  "language_info": {
   "codemirror_mode": {
    "name": "ipython",
    "version": 3
   },
   "file_extension": ".py",
   "mimetype": "text/x-python",
   "name": "python",
   "nbconvert_exporter": "python",
   "pygments_lexer": "ipython3",
   "version": "3.10.4"
  }
 },
 "nbformat": 4,
 "nbformat_minor": 2
}
