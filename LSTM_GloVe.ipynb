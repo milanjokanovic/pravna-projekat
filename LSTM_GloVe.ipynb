{
 "cells": [
  {
   "cell_type": "code",
   "execution_count": 1,
   "metadata": {},
   "outputs": [],
   "source": [
    "import pandas as pd\n",
    "import numpy as np\n",
    "import tensorflow as tf\n",
    "import nltk\n",
    "from tensorflow import keras\n",
    "from tensorflow.keras.layers import TextVectorization\n",
    "from sklearn.model_selection import train_test_split\n",
    "from tensorflow.keras.layers import Embedding\n",
    "from keras import Sequential, Input\n",
    "from keras.layers import LSTM, Dense, Dropout, SpatialDropout1D\n",
    "import pickle\n",
    "from keras.models import to_json\n",
    "import os"
   ]
  },
  {
   "cell_type": "code",
   "execution_count": 2,
   "metadata": {},
   "outputs": [
    {
     "data": {
      "text/html": [
       "<div>\n",
       "<style scoped>\n",
       "    .dataframe tbody tr th:only-of-type {\n",
       "        vertical-align: middle;\n",
       "    }\n",
       "\n",
       "    .dataframe tbody tr th {\n",
       "        vertical-align: top;\n",
       "    }\n",
       "\n",
       "    .dataframe thead th {\n",
       "        text-align: right;\n",
       "    }\n",
       "</style>\n",
       "<table border=\"1\" class=\"dataframe\">\n",
       "  <thead>\n",
       "    <tr style=\"text-align: right;\">\n",
       "      <th></th>\n",
       "      <th>text</th>\n",
       "      <th>class</th>\n",
       "    </tr>\n",
       "  </thead>\n",
       "  <tbody>\n",
       "    <tr>\n",
       "      <th>0</th>\n",
       "      <td>unless request information withheld comply fer...</td>\n",
       "      <td>5</td>\n",
       "    </tr>\n",
       "    <tr>\n",
       "      <th>1</th>\n",
       "      <td>none collect personal information computer e m...</td>\n",
       "      <td>5</td>\n",
       "    </tr>\n",
       "    <tr>\n",
       "      <th>2</th>\n",
       "      <td>elect location based search saved history stor...</td>\n",
       "      <td>6</td>\n",
       "    </tr>\n",
       "    <tr>\n",
       "      <th>3</th>\n",
       "      <td>subsidiary corporate affiliate including enfor...</td>\n",
       "      <td>5</td>\n",
       "    </tr>\n",
       "    <tr>\n",
       "      <th>4</th>\n",
       "      <td>use service view content provided google autom...</td>\n",
       "      <td>2</td>\n",
       "    </tr>\n",
       "    <tr>\n",
       "      <th>...</th>\n",
       "      <td>...</td>\n",
       "      <td>...</td>\n",
       "    </tr>\n",
       "    <tr>\n",
       "      <th>13545</th>\n",
       "      <td>opt targeted advertising</td>\n",
       "      <td>6</td>\n",
       "    </tr>\n",
       "    <tr>\n",
       "      <th>13546</th>\n",
       "      <td>web page computer visit using service clickstr...</td>\n",
       "      <td>5</td>\n",
       "    </tr>\n",
       "    <tr>\n",
       "      <th>13547</th>\n",
       "      <td>jibjab message sent visiting adjusting email p...</td>\n",
       "      <td>6</td>\n",
       "    </tr>\n",
       "    <tr>\n",
       "      <th>13548</th>\n",
       "      <td>receive store certain type information wheneve...</td>\n",
       "      <td>2</td>\n",
       "    </tr>\n",
       "    <tr>\n",
       "      <th>13549</th>\n",
       "      <td>update my account</td>\n",
       "      <td>7</td>\n",
       "    </tr>\n",
       "  </tbody>\n",
       "</table>\n",
       "<p>13549 rows × 2 columns</p>\n",
       "</div>"
      ],
      "text/plain": [
       "                                                    text  class\n",
       "0      unless request information withheld comply fer...      5\n",
       "1      none collect personal information computer e m...      5\n",
       "2      elect location based search saved history stor...      6\n",
       "3      subsidiary corporate affiliate including enfor...      5\n",
       "4      use service view content provided google autom...      2\n",
       "...                                                  ...    ...\n",
       "13545                           opt targeted advertising      6\n",
       "13546  web page computer visit using service clickstr...      5\n",
       "13547  jibjab message sent visiting adjusting email p...      6\n",
       "13548  receive store certain type information wheneve...      2\n",
       "13549                                  update my account      7\n",
       "\n",
       "[13549 rows x 2 columns]"
      ]
     },
     "execution_count": 2,
     "metadata": {},
     "output_type": "execute_result"
    }
   ],
   "source": [
    "train_data = pd.read_csv('dataset/train_preprocessed.csv', encoding='utf-8')\n",
    "train_data.dropna()"
   ]
  },
  {
   "cell_type": "code",
   "execution_count": 3,
   "metadata": {},
   "outputs": [
    {
     "name": "stdout",
     "output_type": "stream",
     "text": [
      "Shape of label tensor: (13550, 10)\n"
     ]
    }
   ],
   "source": [
    "Y = pd.get_dummies(train_data['class']).values\n",
    "print('Shape of label tensor:', Y.shape)"
   ]
  },
  {
   "cell_type": "code",
   "execution_count": 4,
   "metadata": {},
   "outputs": [],
   "source": [
    "X_train, X_test, y_train, y_test = train_test_split(train_data['text'], Y, \n",
    "                                                    test_size=0.3, random_state=42)"
   ]
  },
  {
   "cell_type": "code",
   "execution_count": 5,
   "metadata": {},
   "outputs": [],
   "source": [
    "vectorizer = TextVectorization(max_tokens=2500, output_sequence_length=40)\n",
    "text_ds = tf.data.Dataset.from_tensor_slices(X_train).batch(128)\n",
    "vectorizer.adapt(text_ds)"
   ]
  },
  {
   "cell_type": "code",
   "execution_count": 6,
   "metadata": {},
   "outputs": [],
   "source": [
    "voc = vectorizer.get_vocabulary()\n",
    "word_index = dict(zip(voc, range(len(voc))))"
   ]
  },
  {
   "cell_type": "code",
   "execution_count": 7,
   "metadata": {},
   "outputs": [
    {
     "name": "stdout",
     "output_type": "stream",
     "text": [
      "Found 400000 word vectors.\n"
     ]
    }
   ],
   "source": [
    "embeddings_index = {}\n",
    "with open('GloVe/glove.6B.50d.txt', encoding=\"utf-8\") as f:\n",
    "    for line in f:\n",
    "        word, coefs = line.split(maxsplit=1)\n",
    "        coefs = np.fromstring(coefs, \"f\", sep=\" \")\n",
    "        embeddings_index[word] = coefs\n",
    "\n",
    "print(\"Found %s word vectors.\" % len(embeddings_index))"
   ]
  },
  {
   "cell_type": "code",
   "execution_count": 8,
   "metadata": {},
   "outputs": [
    {
     "name": "stdout",
     "output_type": "stream",
     "text": [
      "Converted 2426 words (74 misses)\n"
     ]
    }
   ],
   "source": [
    "num_tokens = len(voc) + 2\n",
    "embedding_dim = 50\n",
    "hits = 0\n",
    "misses = 0\n",
    "\n",
    "embedding_matrix = np.zeros((num_tokens, embedding_dim))\n",
    "for word, i in word_index.items():\n",
    "    embedding_vector = embeddings_index.get(word)\n",
    "    if embedding_vector is not None:\n",
    "        embedding_matrix[i] = embedding_vector\n",
    "        hits += 1\n",
    "    else:\n",
    "        misses += 1\n",
    "print(\"Converted %d words (%d misses)\" % (hits, misses))"
   ]
  },
  {
   "cell_type": "code",
   "execution_count": 9,
   "metadata": {},
   "outputs": [],
   "source": [
    "embedding_layer = Embedding(\n",
    "    num_tokens,\n",
    "    embedding_dim,\n",
    "    embeddings_initializer=keras.initializers.Constant(embedding_matrix),\n",
    "    trainable=False,\n",
    ")"
   ]
  },
  {
   "cell_type": "code",
   "execution_count": 10,
   "metadata": {},
   "outputs": [],
   "source": [
    "X_train_transformed = vectorizer(np.array([[s] for s in X_train])).numpy()\n",
    "X_test_transformed = vectorizer(np.array([[s] for s in X_test])).numpy()\n",
    "\n",
    "y_train_transformed = np.array(y_train)\n",
    "y_test_transformed = np.array(y_test)"
   ]
  },
  {
   "cell_type": "code",
   "execution_count": 11,
   "metadata": {},
   "outputs": [
    {
     "name": "stdout",
     "output_type": "stream",
     "text": [
      "(9485, 40)\n",
      "(4065, 40)\n",
      "(9485, 10)\n",
      "(4065, 10)\n"
     ]
    }
   ],
   "source": [
    "print(X_train_transformed.shape)\n",
    "print(X_test_transformed.shape)\n",
    "print(y_train_transformed.shape)\n",
    "print(y_test_transformed.shape)"
   ]
  },
  {
   "cell_type": "code",
   "execution_count": 12,
   "metadata": {},
   "outputs": [
    {
     "name": "stdout",
     "output_type": "stream",
     "text": [
      "Model: \"sequential\"\n",
      "_________________________________________________________________\n",
      " Layer (type)                Output Shape              Param #   \n",
      "=================================================================\n",
      " embedding (Embedding)       (None, None, 50)          125100    \n",
      "                                                                 \n",
      " spatial_dropout1d (SpatialD  (None, None, 50)         0         \n",
      " ropout1D)                                                       \n",
      "                                                                 \n",
      " lstm (LSTM)                 (None, 100)               60400     \n",
      "                                                                 \n",
      " dense (Dense)               (None, 32)                3232      \n",
      "                                                                 \n",
      " dense_1 (Dense)             (None, 10)                330       \n",
      "                                                                 \n",
      "=================================================================\n",
      "Total params: 189,062\n",
      "Trainable params: 63,962\n",
      "Non-trainable params: 125,100\n",
      "_________________________________________________________________\n",
      "None\n"
     ]
    }
   ],
   "source": [
    "model = Sequential()\n",
    "model.add(embedding_layer)\n",
    "model.add(SpatialDropout1D(0.2))\n",
    "model.add(LSTM(100, dropout=0.2, recurrent_dropout=0.2))\n",
    "model.add(Dense(32, activation='relu'))\n",
    "model.add(Dense(10, activation='softmax'))\n",
    "model.compile(loss='categorical_crossentropy', optimizer='adam', metrics=['accuracy'])\n",
    "\n",
    "print(model.summary())"
   ]
  },
  {
   "cell_type": "code",
   "execution_count": 13,
   "metadata": {},
   "outputs": [
    {
     "name": "stdout",
     "output_type": "stream",
     "text": [
      "Epoch 1/50\n",
      "149/149 [==============================] - 11s 47ms/step - loss: 1.7371 - accuracy: 0.3986 - val_loss: 1.6241 - val_accuracy: 0.4273\n",
      "Epoch 2/50\n",
      "149/149 [==============================] - 6s 41ms/step - loss: 1.5649 - accuracy: 0.4781 - val_loss: 1.4661 - val_accuracy: 0.5319\n",
      "Epoch 3/50\n",
      "149/149 [==============================] - 6s 41ms/step - loss: 1.4529 - accuracy: 0.5398 - val_loss: 1.3283 - val_accuracy: 0.5833\n",
      "Epoch 4/50\n",
      "149/149 [==============================] - 6s 40ms/step - loss: 1.3510 - accuracy: 0.5769 - val_loss: 1.2507 - val_accuracy: 0.5975\n",
      "Epoch 5/50\n",
      "149/149 [==============================] - 6s 40ms/step - loss: 1.2538 - accuracy: 0.5994 - val_loss: 1.1971 - val_accuracy: 0.6133\n",
      "Epoch 6/50\n",
      "149/149 [==============================] - 6s 41ms/step - loss: 1.1910 - accuracy: 0.6137 - val_loss: 1.0852 - val_accuracy: 0.6433\n",
      "Epoch 7/50\n",
      "149/149 [==============================] - 6s 41ms/step - loss: 1.1755 - accuracy: 0.6134 - val_loss: 1.1101 - val_accuracy: 0.6364\n",
      "Epoch 8/50\n",
      "149/149 [==============================] - 6s 41ms/step - loss: 1.1354 - accuracy: 0.6256 - val_loss: 1.0438 - val_accuracy: 0.6667\n",
      "Epoch 9/50\n",
      "149/149 [==============================] - 7s 45ms/step - loss: 1.0778 - accuracy: 0.6450 - val_loss: 0.9787 - val_accuracy: 0.6831\n",
      "Epoch 10/50\n",
      "149/149 [==============================] - 7s 46ms/step - loss: 1.0461 - accuracy: 0.6561 - val_loss: 0.9381 - val_accuracy: 0.6932\n",
      "Epoch 11/50\n",
      "149/149 [==============================] - 7s 49ms/step - loss: 1.0080 - accuracy: 0.6611 - val_loss: 0.9184 - val_accuracy: 0.7070\n",
      "Epoch 12/50\n",
      "149/149 [==============================] - 7s 47ms/step - loss: 0.9657 - accuracy: 0.6826 - val_loss: 0.8760 - val_accuracy: 0.7146\n",
      "Epoch 13/50\n",
      "149/149 [==============================] - 7s 46ms/step - loss: 0.9489 - accuracy: 0.6860 - val_loss: 0.8515 - val_accuracy: 0.7274\n",
      "Epoch 14/50\n",
      "149/149 [==============================] - 6s 42ms/step - loss: 0.9231 - accuracy: 0.6945 - val_loss: 0.8570 - val_accuracy: 0.7274\n",
      "Epoch 15/50\n",
      "149/149 [==============================] - 6s 40ms/step - loss: 0.8944 - accuracy: 0.7077 - val_loss: 0.8050 - val_accuracy: 0.7351\n",
      "Epoch 16/50\n",
      "149/149 [==============================] - 6s 41ms/step - loss: 0.8699 - accuracy: 0.7140 - val_loss: 0.7902 - val_accuracy: 0.7429\n",
      "Epoch 17/50\n",
      "149/149 [==============================] - 7s 45ms/step - loss: 0.8710 - accuracy: 0.7134 - val_loss: 0.7932 - val_accuracy: 0.7469\n",
      "Epoch 18/50\n",
      "149/149 [==============================] - 7s 47ms/step - loss: 0.8541 - accuracy: 0.7165 - val_loss: 0.7722 - val_accuracy: 0.7493\n",
      "Epoch 19/50\n",
      "149/149 [==============================] - 7s 46ms/step - loss: 0.8324 - accuracy: 0.7230 - val_loss: 0.7652 - val_accuracy: 0.7542\n",
      "Epoch 20/50\n",
      "149/149 [==============================] - 7s 49ms/step - loss: 0.8260 - accuracy: 0.7261 - val_loss: 0.7472 - val_accuracy: 0.7530\n",
      "Epoch 21/50\n",
      "149/149 [==============================] - 8s 52ms/step - loss: 0.8032 - accuracy: 0.7404 - val_loss: 0.7493 - val_accuracy: 0.7587\n",
      "Epoch 22/50\n",
      "149/149 [==============================] - 8s 56ms/step - loss: 0.7959 - accuracy: 0.7363 - val_loss: 0.7628 - val_accuracy: 0.7510\n",
      "Epoch 23/50\n",
      "149/149 [==============================] - 9s 57ms/step - loss: 0.7811 - accuracy: 0.7443 - val_loss: 0.7437 - val_accuracy: 0.7557\n",
      "Epoch 24/50\n",
      "149/149 [==============================] - 8s 54ms/step - loss: 0.7858 - accuracy: 0.7422 - val_loss: 0.7291 - val_accuracy: 0.7604\n",
      "Epoch 25/50\n",
      "149/149 [==============================] - 9s 59ms/step - loss: 0.7704 - accuracy: 0.7455 - val_loss: 0.7304 - val_accuracy: 0.7653\n",
      "Epoch 26/50\n",
      "149/149 [==============================] - 7s 50ms/step - loss: 0.7630 - accuracy: 0.7464 - val_loss: 0.7151 - val_accuracy: 0.7641\n",
      "Epoch 27/50\n",
      "149/149 [==============================] - 7s 48ms/step - loss: 0.7438 - accuracy: 0.7564 - val_loss: 0.7284 - val_accuracy: 0.7579\n",
      "Epoch 28/50\n",
      "149/149 [==============================] - 8s 52ms/step - loss: 0.7387 - accuracy: 0.7567 - val_loss: 0.7250 - val_accuracy: 0.7594\n",
      "Epoch 29/50\n",
      "149/149 [==============================] - 7s 50ms/step - loss: 0.7229 - accuracy: 0.7617 - val_loss: 0.7023 - val_accuracy: 0.7747\n",
      "Epoch 30/50\n",
      "149/149 [==============================] - 7s 45ms/step - loss: 0.7159 - accuracy: 0.7615 - val_loss: 0.7017 - val_accuracy: 0.7690\n",
      "Epoch 31/50\n",
      "149/149 [==============================] - 7s 47ms/step - loss: 0.6970 - accuracy: 0.7713 - val_loss: 0.6940 - val_accuracy: 0.7675\n",
      "Epoch 32/50\n",
      "149/149 [==============================] - 7s 47ms/step - loss: 0.6959 - accuracy: 0.7639 - val_loss: 0.6838 - val_accuracy: 0.7747\n",
      "Epoch 33/50\n",
      "149/149 [==============================] - 7s 47ms/step - loss: 0.6890 - accuracy: 0.7713 - val_loss: 0.6796 - val_accuracy: 0.7724\n",
      "Epoch 34/50\n",
      "149/149 [==============================] - 7s 49ms/step - loss: 0.6828 - accuracy: 0.7709 - val_loss: 0.6896 - val_accuracy: 0.7793\n",
      "Epoch 35/50\n",
      "149/149 [==============================] - 8s 54ms/step - loss: 0.6746 - accuracy: 0.7753 - val_loss: 0.6876 - val_accuracy: 0.7786\n",
      "Epoch 36/50\n",
      "149/149 [==============================] - 9s 58ms/step - loss: 0.6682 - accuracy: 0.7771 - val_loss: 0.6731 - val_accuracy: 0.7813\n",
      "Epoch 37/50\n",
      "149/149 [==============================] - 8s 52ms/step - loss: 0.6627 - accuracy: 0.7830 - val_loss: 0.6703 - val_accuracy: 0.7791\n",
      "Epoch 38/50\n",
      "149/149 [==============================] - 7s 49ms/step - loss: 0.6546 - accuracy: 0.7792 - val_loss: 0.6709 - val_accuracy: 0.7764\n",
      "Epoch 39/50\n",
      "149/149 [==============================] - 7s 47ms/step - loss: 0.6526 - accuracy: 0.7772 - val_loss: 0.6894 - val_accuracy: 0.7724\n",
      "Epoch 40/50\n",
      "149/149 [==============================] - 7s 48ms/step - loss: 0.6535 - accuracy: 0.7798 - val_loss: 0.6677 - val_accuracy: 0.7820\n",
      "Epoch 41/50\n",
      "149/149 [==============================] - 7s 48ms/step - loss: 0.6321 - accuracy: 0.7878 - val_loss: 0.6638 - val_accuracy: 0.7776\n",
      "Epoch 42/50\n",
      "149/149 [==============================] - 7s 48ms/step - loss: 0.6238 - accuracy: 0.7910 - val_loss: 0.6641 - val_accuracy: 0.7815\n",
      "Epoch 43/50\n",
      "149/149 [==============================] - 7s 49ms/step - loss: 0.6284 - accuracy: 0.7845 - val_loss: 0.6701 - val_accuracy: 0.7803\n",
      "Epoch 44/50\n",
      "149/149 [==============================] - 8s 50ms/step - loss: 0.6241 - accuracy: 0.7875 - val_loss: 0.6620 - val_accuracy: 0.7808\n",
      "Epoch 45/50\n",
      "149/149 [==============================] - 7s 48ms/step - loss: 0.6177 - accuracy: 0.7889 - val_loss: 0.6592 - val_accuracy: 0.7835\n",
      "Epoch 46/50\n",
      "149/149 [==============================] - 7s 49ms/step - loss: 0.6051 - accuracy: 0.7962 - val_loss: 0.6722 - val_accuracy: 0.7843\n",
      "Epoch 47/50\n",
      "149/149 [==============================] - 7s 49ms/step - loss: 0.6059 - accuracy: 0.7983 - val_loss: 0.6583 - val_accuracy: 0.7840\n",
      "Epoch 48/50\n",
      "149/149 [==============================] - 7s 50ms/step - loss: 0.5986 - accuracy: 0.7955 - val_loss: 0.6558 - val_accuracy: 0.7889\n",
      "Epoch 49/50\n",
      "149/149 [==============================] - 7s 48ms/step - loss: 0.5901 - accuracy: 0.7995 - val_loss: 0.6531 - val_accuracy: 0.7838\n",
      "Epoch 50/50\n",
      "149/149 [==============================] - 7s 49ms/step - loss: 0.5961 - accuracy: 0.7970 - val_loss: 0.6511 - val_accuracy: 0.7879\n"
     ]
    },
    {
     "data": {
      "text/plain": [
       "<keras.callbacks.History at 0x126b8f5dff0>"
      ]
     },
     "execution_count": 13,
     "metadata": {},
     "output_type": "execute_result"
    }
   ],
   "source": [
    "model.fit(X_train_transformed, y_train_transformed, batch_size=64, epochs=50, \n",
    "          validation_data=(X_test_transformed, y_test_transformed))"
   ]
  },
  {
   "cell_type": "code",
   "execution_count": 16,
   "metadata": {},
   "outputs": [],
   "source": [
    "model.save(\"models/LSTM_GloVe_keras.h5\")"
   ]
  },
  {
   "cell_type": "code",
   "execution_count": 18,
   "metadata": {},
   "outputs": [],
   "source": [
    "pickle.dump({'config': vectorizer.get_config(),\n",
    "             'weights': vectorizer.get_weights()}\n",
    "            , open(\"models/LSTM_GloVe_Vectorizer.pkl\", \"wb\"))"
   ]
  },
  {
   "cell_type": "code",
   "execution_count": null,
   "metadata": {},
   "outputs": [],
   "source": []
  }
 ],
 "metadata": {
  "kernelspec": {
   "display_name": "Python 3 (ipykernel)",
   "language": "python",
   "name": "python3"
  },
  "language_info": {
   "codemirror_mode": {
    "name": "ipython",
    "version": 3
   },
   "file_extension": ".py",
   "mimetype": "text/x-python",
   "name": "python",
   "nbconvert_exporter": "python",
   "pygments_lexer": "ipython3",
   "version": "3.10.4"
  }
 },
 "nbformat": 4,
 "nbformat_minor": 2
}
